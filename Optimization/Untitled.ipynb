{
 "cells": [
  {
   "cell_type": "code",
   "execution_count": 1,
   "id": "917d96d2",
   "metadata": {},
   "outputs": [],
   "source": [
    "import numpy as np"
   ]
  },
  {
   "cell_type": "code",
   "execution_count": 2,
   "id": "7e1353da",
   "metadata": {},
   "outputs": [],
   "source": [
    "class SGD():\n",
    "    def __init__(self, learning_rate):\n",
    "        self.learning_rate = learning_rate\n",
    "        \n",
    "    def calculate_update(self, weight_tensor, gradient_tensor):\n",
    "        self.weight_tensor = weight_tensor\n",
    "        self.gradient_tensor = gradient_tensor\n",
    "        weight_update = self.weight_tensor - self.learning_rate * self.gradient_tensor\n",
    "        return weight_update"
   ]
  },
  {
   "cell_type": "code",
   "execution_count": 4,
   "id": "2a8ba66d",
   "metadata": {},
   "outputs": [],
   "source": [
    "class BaseLayer():\n",
    "    def __init__(self):\n",
    "        self.trainable = False"
   ]
  },
  {
   "cell_type": "code",
   "execution_count": 6,
   "id": "3fdf940c",
   "metadata": {},
   "outputs": [
    {
     "ename": "SyntaxError",
     "evalue": "unexpected EOF while parsing (3449165637.py, line 2)",
     "output_type": "error",
     "traceback": [
      "\u001b[1;36m  Input \u001b[1;32mIn [6]\u001b[1;36m\u001b[0m\n\u001b[1;33m    def __init__(self, input_size, output_size):\u001b[0m\n\u001b[1;37m                                                ^\u001b[0m\n\u001b[1;31mSyntaxError\u001b[0m\u001b[1;31m:\u001b[0m unexpected EOF while parsing\n"
     ]
    }
   ],
   "source": [
    "class FullyConnected():\n",
    "    def __init__(self, input_size, output_size):\n",
    "        weights = [np.random.random() for i in range(5)]"
   ]
  },
  {
   "cell_type": "code",
   "execution_count": 111,
   "id": "ed782bc9",
   "metadata": {},
   "outputs": [
    {
     "data": {
      "text/plain": [
       "array([[0.0646084 , 0.548966  , 0.87258884, 0.33037184, 0.35202932]])"
      ]
     },
     "execution_count": 111,
     "metadata": {},
     "output_type": "execute_result"
    }
   ],
   "source": [
    "np.random.rand(1, 5) "
   ]
  },
  {
   "cell_type": "code",
   "execution_count": null,
   "id": "03b66459",
   "metadata": {},
   "outputs": [],
   "source": []
  }
 ],
 "metadata": {
  "kernelspec": {
   "display_name": "Python 3 (ipykernel)",
   "language": "python",
   "name": "python3"
  },
  "language_info": {
   "codemirror_mode": {
    "name": "ipython",
    "version": 3
   },
   "file_extension": ".py",
   "mimetype": "text/x-python",
   "name": "python",
   "nbconvert_exporter": "python",
   "pygments_lexer": "ipython3",
   "version": "3.8.7"
  }
 },
 "nbformat": 4,
 "nbformat_minor": 5
}
